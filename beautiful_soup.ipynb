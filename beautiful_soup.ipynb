{
 "cells": [
  {
   "cell_type": "code",
   "execution_count": 56,
   "id": "ff0129a8-e2b2-42d8-9667-3ec19e17f00e",
   "metadata": {},
   "outputs": [],
   "source": [
    "from bs4 import BeautifulSoup\n",
    "import requests\n",
    "import pandas as pd"
   ]
  },
  {
   "cell_type": "code",
   "execution_count": 57,
   "id": "14edbb46-e9c9-4240-9fe7-5ecfb09f64e2",
   "metadata": {},
   "outputs": [],
   "source": [
    "with open(\"html_pages/page1.html\" ,) as f:\n",
    "    content = f.read()"
   ]
  },
  {
   "cell_type": "code",
   "execution_count": 58,
   "id": "ae9fbb60-5a1a-4076-8ba6-62a10cb6a5f1",
   "metadata": {},
   "outputs": [],
   "source": [
    "soup = BeautifulSoup(content, \"html.parser\")"
   ]
  },
  {
   "cell_type": "code",
   "execution_count": 59,
   "id": "efba3612-dea3-4a78-af72-c8389aa43ad2",
   "metadata": {},
   "outputs": [],
   "source": [
    "h3s = soup.find_all(\"h3\")"
   ]
  },
  {
   "cell_type": "code",
   "execution_count": 60,
   "id": "46802394-ac65-4b6a-916d-bb3ef4023ed1",
   "metadata": {},
   "outputs": [],
   "source": [
    "articles = soup.select(\"article.product_pod\")"
   ]
  },
  {
   "cell_type": "code",
   "execution_count": 101,
   "id": "581812a3-b45a-46cc-98ea-55660accb6b6",
   "metadata": {},
   "outputs": [],
   "source": [
    "books=[]\n",
    "for article in articles:\n",
    "    titles=article.find(\"h3\").find(\"a\")[\"title\"]\n",
    "    price=article.select_one(\"p.price_color\").text.split(\"Ã‚Â\")[-1]\n",
    "    rating_element=article.select_one(\"p.star-rating\")\n",
    "    classes = rating_element[\"class\"][1]\n",
    "    books.append([titles,price,classes])"
   ]
  },
  {
   "cell_type": "code",
   "execution_count": 102,
   "id": "8493f688-9e88-4b47-886f-0198742381aa",
   "metadata": {},
   "outputs": [
    {
     "data": {
      "text/plain": [
       "[['Frankenstein', '£38.00', 'Two'],\n",
       " ['Forever Rockers (The Rocker #12)', '£28.80', 'Three'],\n",
       " ['Fighting Fate (Fighting #6)', '£39.24', 'Three'],\n",
       " ['Emma', '£32.93', 'Two'],\n",
       " ['Eat, Pray, Love', '£51.32', 'Three'],\n",
       " ['Deep Under (Walker Security #1)', '£47.09', 'Five'],\n",
       " [\"Choosing Our Religion: The Spiritual Lives of America's Nones\",\n",
       "  '£28.42',\n",
       "  'Four'],\n",
       " ['Charlie and the Chocolate Factory (Charlie Bucket #1)', '£22.85', 'Three'],\n",
       " [\"Charity's Cross (Charles Towne Belles #4)\", '£41.24', 'One'],\n",
       " ['Bright Lines', '£39.07', 'Five'],\n",
       " [\"Bridget Jones's Diary (Bridget Jones #1)\", '£29.82', 'One'],\n",
       " ['Bounty (Colorado Mountain #7)', '£37.26', 'Four'],\n",
       " ['Blood Defense (Samantha Brinkman #1)', '£20.30', 'Three'],\n",
       " ['Bleach, Vol. 1: Strawberry and the Soul Reapers (Bleach #1)',\n",
       "  '£34.65',\n",
       "  'Five'],\n",
       " ['Beyond Good and Evil', '£43.38', 'One'],\n",
       " [\"Alice in Wonderland (Alice's Adventures in Wonderland #1)\",\n",
       "  '£55.53',\n",
       "  'One'],\n",
       " ['Ajin: Demi-Human, Volume 1 (Ajin: Demi-Human #1)', '£57.06', 'Four'],\n",
       " [\"A Spy's Devotion (The Regency Spies of London #1)\", '£16.97', 'Five'],\n",
       " [\"1st to Die (Women's Murder Club #1)\", '£53.98', 'One'],\n",
       " ['1,000 Places to See Before You Die', '£26.08', 'Five']]"
      ]
     },
     "execution_count": 102,
     "metadata": {},
     "output_type": "execute_result"
    }
   ],
   "source": [
    "books"
   ]
  },
  {
   "cell_type": "code",
   "execution_count": 103,
   "id": "bf9b25e2-9dce-4213-b53f-ce3e925bfd85",
   "metadata": {},
   "outputs": [],
   "source": [
    "df=pd.DataFrame(books , columns=[\"Books Title\" , \"Price\" , \"Ratings\" ])"
   ]
  },
  {
   "cell_type": "code",
   "execution_count": 104,
   "id": "7f0cf0c5-5c0c-455e-8b6a-8e53840176fe",
   "metadata": {},
   "outputs": [
    {
     "data": {
      "text/html": [
       "<div>\n",
       "<style scoped>\n",
       "    .dataframe tbody tr th:only-of-type {\n",
       "        vertical-align: middle;\n",
       "    }\n",
       "\n",
       "    .dataframe tbody tr th {\n",
       "        vertical-align: top;\n",
       "    }\n",
       "\n",
       "    .dataframe thead th {\n",
       "        text-align: right;\n",
       "    }\n",
       "</style>\n",
       "<table border=\"1\" class=\"dataframe\">\n",
       "  <thead>\n",
       "    <tr style=\"text-align: right;\">\n",
       "      <th></th>\n",
       "      <th>Books Title</th>\n",
       "      <th>Price</th>\n",
       "      <th>Ratings</th>\n",
       "    </tr>\n",
       "  </thead>\n",
       "  <tbody>\n",
       "    <tr>\n",
       "      <th>0</th>\n",
       "      <td>Frankenstein</td>\n",
       "      <td>£38.00</td>\n",
       "      <td>Two</td>\n",
       "    </tr>\n",
       "    <tr>\n",
       "      <th>1</th>\n",
       "      <td>Forever Rockers (The Rocker #12)</td>\n",
       "      <td>£28.80</td>\n",
       "      <td>Three</td>\n",
       "    </tr>\n",
       "    <tr>\n",
       "      <th>2</th>\n",
       "      <td>Fighting Fate (Fighting #6)</td>\n",
       "      <td>£39.24</td>\n",
       "      <td>Three</td>\n",
       "    </tr>\n",
       "    <tr>\n",
       "      <th>3</th>\n",
       "      <td>Emma</td>\n",
       "      <td>£32.93</td>\n",
       "      <td>Two</td>\n",
       "    </tr>\n",
       "    <tr>\n",
       "      <th>4</th>\n",
       "      <td>Eat, Pray, Love</td>\n",
       "      <td>£51.32</td>\n",
       "      <td>Three</td>\n",
       "    </tr>\n",
       "    <tr>\n",
       "      <th>5</th>\n",
       "      <td>Deep Under (Walker Security #1)</td>\n",
       "      <td>£47.09</td>\n",
       "      <td>Five</td>\n",
       "    </tr>\n",
       "    <tr>\n",
       "      <th>6</th>\n",
       "      <td>Choosing Our Religion: The Spiritual Lives of ...</td>\n",
       "      <td>£28.42</td>\n",
       "      <td>Four</td>\n",
       "    </tr>\n",
       "    <tr>\n",
       "      <th>7</th>\n",
       "      <td>Charlie and the Chocolate Factory (Charlie Buc...</td>\n",
       "      <td>£22.85</td>\n",
       "      <td>Three</td>\n",
       "    </tr>\n",
       "    <tr>\n",
       "      <th>8</th>\n",
       "      <td>Charity's Cross (Charles Towne Belles #4)</td>\n",
       "      <td>£41.24</td>\n",
       "      <td>One</td>\n",
       "    </tr>\n",
       "    <tr>\n",
       "      <th>9</th>\n",
       "      <td>Bright Lines</td>\n",
       "      <td>£39.07</td>\n",
       "      <td>Five</td>\n",
       "    </tr>\n",
       "    <tr>\n",
       "      <th>10</th>\n",
       "      <td>Bridget Jones's Diary (Bridget Jones #1)</td>\n",
       "      <td>£29.82</td>\n",
       "      <td>One</td>\n",
       "    </tr>\n",
       "    <tr>\n",
       "      <th>11</th>\n",
       "      <td>Bounty (Colorado Mountain #7)</td>\n",
       "      <td>£37.26</td>\n",
       "      <td>Four</td>\n",
       "    </tr>\n",
       "    <tr>\n",
       "      <th>12</th>\n",
       "      <td>Blood Defense (Samantha Brinkman #1)</td>\n",
       "      <td>£20.30</td>\n",
       "      <td>Three</td>\n",
       "    </tr>\n",
       "    <tr>\n",
       "      <th>13</th>\n",
       "      <td>Bleach, Vol. 1: Strawberry and the Soul Reaper...</td>\n",
       "      <td>£34.65</td>\n",
       "      <td>Five</td>\n",
       "    </tr>\n",
       "    <tr>\n",
       "      <th>14</th>\n",
       "      <td>Beyond Good and Evil</td>\n",
       "      <td>£43.38</td>\n",
       "      <td>One</td>\n",
       "    </tr>\n",
       "    <tr>\n",
       "      <th>15</th>\n",
       "      <td>Alice in Wonderland (Alice's Adventures in Won...</td>\n",
       "      <td>£55.53</td>\n",
       "      <td>One</td>\n",
       "    </tr>\n",
       "    <tr>\n",
       "      <th>16</th>\n",
       "      <td>Ajin: Demi-Human, Volume 1 (Ajin: Demi-Human #1)</td>\n",
       "      <td>£57.06</td>\n",
       "      <td>Four</td>\n",
       "    </tr>\n",
       "    <tr>\n",
       "      <th>17</th>\n",
       "      <td>A Spy's Devotion (The Regency Spies of London #1)</td>\n",
       "      <td>£16.97</td>\n",
       "      <td>Five</td>\n",
       "    </tr>\n",
       "    <tr>\n",
       "      <th>18</th>\n",
       "      <td>1st to Die (Women's Murder Club #1)</td>\n",
       "      <td>£53.98</td>\n",
       "      <td>One</td>\n",
       "    </tr>\n",
       "    <tr>\n",
       "      <th>19</th>\n",
       "      <td>1,000 Places to See Before You Die</td>\n",
       "      <td>£26.08</td>\n",
       "      <td>Five</td>\n",
       "    </tr>\n",
       "  </tbody>\n",
       "</table>\n",
       "</div>"
      ],
      "text/plain": [
       "                                          Books Title   Price Ratings\n",
       "0                                        Frankenstein  £38.00     Two\n",
       "1                    Forever Rockers (The Rocker #12)  £28.80   Three\n",
       "2                         Fighting Fate (Fighting #6)  £39.24   Three\n",
       "3                                                Emma  £32.93     Two\n",
       "4                                     Eat, Pray, Love  £51.32   Three\n",
       "5                     Deep Under (Walker Security #1)  £47.09    Five\n",
       "6   Choosing Our Religion: The Spiritual Lives of ...  £28.42    Four\n",
       "7   Charlie and the Chocolate Factory (Charlie Buc...  £22.85   Three\n",
       "8           Charity's Cross (Charles Towne Belles #4)  £41.24     One\n",
       "9                                        Bright Lines  £39.07    Five\n",
       "10           Bridget Jones's Diary (Bridget Jones #1)  £29.82     One\n",
       "11                      Bounty (Colorado Mountain #7)  £37.26    Four\n",
       "12               Blood Defense (Samantha Brinkman #1)  £20.30   Three\n",
       "13  Bleach, Vol. 1: Strawberry and the Soul Reaper...  £34.65    Five\n",
       "14                               Beyond Good and Evil  £43.38     One\n",
       "15  Alice in Wonderland (Alice's Adventures in Won...  £55.53     One\n",
       "16   Ajin: Demi-Human, Volume 1 (Ajin: Demi-Human #1)  £57.06    Four\n",
       "17  A Spy's Devotion (The Regency Spies of London #1)  £16.97    Five\n",
       "18                1st to Die (Women's Murder Club #1)  £53.98     One\n",
       "19                 1,000 Places to See Before You Die  £26.08    Five"
      ]
     },
     "execution_count": 104,
     "metadata": {},
     "output_type": "execute_result"
    }
   ],
   "source": [
    "df"
   ]
  },
  {
   "cell_type": "code",
   "execution_count": 105,
   "id": "0d9107f9-0c0e-4906-8530-eafff3a51dc7",
   "metadata": {},
   "outputs": [],
   "source": [
    "df.to_csv(\"scrapping_data.csv\",index=False)"
   ]
  },
  {
   "cell_type": "code",
   "execution_count": null,
   "id": "e66f55f2-a165-4956-b155-15a743909948",
   "metadata": {},
   "outputs": [],
   "source": []
  }
 ],
 "metadata": {
  "kernelspec": {
   "display_name": "Python 3 (ipykernel)",
   "language": "python",
   "name": "python3"
  },
  "language_info": {
   "codemirror_mode": {
    "name": "ipython",
    "version": 3
   },
   "file_extension": ".py",
   "mimetype": "text/x-python",
   "name": "python",
   "nbconvert_exporter": "python",
   "pygments_lexer": "ipython3",
   "version": "3.13.5"
  }
 },
 "nbformat": 4,
 "nbformat_minor": 5
}
