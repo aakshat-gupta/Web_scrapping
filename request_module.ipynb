{
 "cells": [
  {
   "cell_type": "markdown",
   "id": "f67a1326-3cf1-43ba-bf83-58fde6b407bd",
   "metadata": {},
   "source": [
    "this is the code for adding all the pages of the particular site in htmls folder"
   ]
  },
  {
   "cell_type": "code",
   "execution_count": null,
   "id": "cec37426-b437-4650-a1af-5d8e24a06133",
   "metadata": {},
   "outputs": [],
   "source": [
    "import requests\n",
    "a=requests.get(\"https://books.toscrape.com/\")\n",
    "print(a)\n"
   ]
  },
  {
   "cell_type": "code",
   "execution_count": null,
   "id": "60254b26-4b19-4628-9fdc-0cc234e1ab63",
   "metadata": {},
   "outputs": [],
   "source": [
    "for i in range (1,51) :\n",
    " a=requests.get(f\"https://books.toscrape.com//catalogue/page-{i}.html\")\n",
    " with open(f\"htmls/page{i}.html\" ,\"w\" ,encoding=\"utf-8\")as f:\n",
    "    f.write(a.text)\n",
    "     "
   ]
  },
  {
   "cell_type": "markdown",
   "id": "068c7aa6-2eae-4c44-86fb-fd58fe3a3dee",
   "metadata": {},
   "source": [
    "this for to get a single page from the website "
   ]
  },
  {
   "cell_type": "code",
   "execution_count": 19,
   "id": "4902adce-c3ce-448a-9ec1-718c343213ec",
   "metadata": {},
   "outputs": [
    {
     "name": "stdout",
     "output_type": "stream",
     "text": [
      "<Response [200]>\n"
     ]
    }
   ],
   "source": [
    "import requests\n",
    "url=requests.get(f\"https://books.toscrape.com/index.html\")\n",
    "print(url)\n",
    "     "
   ]
  },
  {
   "cell_type": "code",
   "execution_count": 24,
   "id": "9dd70eb4-7fe9-4d94-84ad-20a72328d9c5",
   "metadata": {},
   "outputs": [
    {
     "name": "stdout",
     "output_type": "stream",
     "text": [
      "ok  1 task completed succfully\n",
      "ok  2 task completed succfully\n",
      "ok  3 task completed succfully\n",
      "ok  4 task completed succfully\n",
      "ok  5 task completed succfully\n",
      "ok  6 task completed succfully\n",
      "ok  7 task completed succfully\n",
      "ok  8 task completed succfully\n",
      "ok  9 task completed succfully\n",
      "ok  10 task completed succfully\n",
      "ok  11 task completed succfully\n",
      "ok  12 task completed succfully\n",
      "ok  13 task completed succfully\n",
      "ok  14 task completed succfully\n",
      "ok  15 task completed succfully\n",
      "ok  16 task completed succfully\n",
      "ok  17 task completed succfully\n",
      "ok  18 task completed succfully\n",
      "ok  19 task completed succfully\n",
      "ok  20 task completed succfully\n",
      "ok  21 task completed succfully\n",
      "ok  22 task completed succfully\n",
      "ok  23 task completed succfully\n",
      "ok  24 task completed succfully\n",
      "ok  25 task completed succfully\n",
      "ok  26 task completed succfully\n",
      "ok  27 task completed succfully\n",
      "ok  28 task completed succfully\n",
      "ok  29 task completed succfully\n",
      "ok  30 task completed succfully\n",
      "ok  31 task completed succfully\n",
      "ok  32 task completed succfully\n",
      "ok  33 task completed succfully\n",
      "ok  34 task completed succfully\n",
      "ok  35 task completed succfully\n",
      "ok  36 task completed succfully\n",
      "ok  37 task completed succfully\n",
      "ok  38 task completed succfully\n",
      "ok  39 task completed succfully\n",
      "ok  40 task completed succfully\n",
      "ok  41 task completed succfully\n",
      "ok  42 task completed succfully\n",
      "ok  43 task completed succfully\n",
      "ok  44 task completed succfully\n",
      "ok  45 task completed succfully\n",
      "ok  46 task completed succfully\n",
      "ok  47 task completed succfully\n",
      "ok  48 task completed succfully\n",
      "ok  49 task completed succfully\n"
     ]
    }
   ],
   "source": [
    "#for i in range (1,50):\n",
    " #url=requests.get(f\"https://books.toscrape.com///catalogue/page-{i}html\")\n",
    " with open(f\"htmlpage/page1.html\",\"w\",encoding=\"utf-8\") as f:\n",
    "    f.write(a.text)\n",
    "    #print(f\"ok  {i} task completed succfully\")"
   ]
  },
  {
   "cell_type": "code",
   "execution_count": null,
   "id": "7d3c3d3e-891a-4706-a7a7-1b98ceb898c4",
   "metadata": {},
   "outputs": [],
   "source": []
  }
 ],
 "metadata": {
  "kernelspec": {
   "display_name": "Python 3 (ipykernel)",
   "language": "python",
   "name": "python3"
  },
  "language_info": {
   "codemirror_mode": {
    "name": "ipython",
    "version": 3
   },
   "file_extension": ".py",
   "mimetype": "text/x-python",
   "name": "python",
   "nbconvert_exporter": "python",
   "pygments_lexer": "ipython3",
   "version": "3.13.5"
  },
  "panel-cell-order": [
   "02522a8e-83a8-4efd-8d75-70a0a53d5473"
  ]
 },
 "nbformat": 4,
 "nbformat_minor": 5
}
