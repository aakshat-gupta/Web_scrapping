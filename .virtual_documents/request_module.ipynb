


import requests
a=requests.get("https://books.toscrape.com/")
print(a)



for i in range (1,51) :
 a=requests.get(f"https://books.toscrape.com//catalogue/page-{i}.html")
 with open(f"htmls/page{i}.html" ,"w" ,encoding="utf-8")as f:
    f.write(a.text)
     





import requests
url=requests.get(f"https://books.toscrape.com/index.html")
print(url)
     


#for i in range (1,50):
 #url=requests.get(f"https://books.toscrape.com///catalogue/page-{i}html")
 with open(f"htmlpage/page1.html","w",encoding="utf-8") as f:
    f.write(a.text)
    #print(f"ok  {i} task completed succfully")



